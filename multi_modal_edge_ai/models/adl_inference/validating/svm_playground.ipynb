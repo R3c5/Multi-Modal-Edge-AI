{
 "cells": [
  {
   "cell_type": "markdown",
   "source": [
    "Playground to test out different models for validation."
   ],
   "metadata": {
    "collapsed": false
   }
  },
  {
   "cell_type": "code",
   "execution_count": 4,
   "outputs": [],
   "source": [
    "# Imports\n",
    "from multi_modal_edge_ai.models.adl_inference.validating.validate import split_and_validate\n",
    "from multi_modal_edge_ai.models.adl_inference.data_access.parser import parse_file\n",
    "from multi_modal_edge_ai.models.adl_inference.ml_models.svm_model import SVMModel\n",
    "import pandas as pd\n",
    "\n",
    "# Model parameters\n",
    "window_length_seconds = 300\n",
    "window_slide_seconds = 150\n",
    "\n",
    "# File paths\n",
    "data_A, ground_truth_A = parse_file(\"../../public_datasets/OrdonezA_Sensors.csv\",\n",
    "                                    \"../../public_datasets/OrdonezA_ADLs.csv\")\n",
    "data_B, ground_truth_B = parse_file(\"../../public_datasets/OrdonezB_Sensors.csv\",\n",
    "                                    \"../../public_datasets/OrdonezB_ADLs.csv\")"
   ],
   "metadata": {
    "collapsed": false,
    "ExecuteTime": {
     "end_time": "2023-05-29T15:59:36.174500900Z",
     "start_time": "2023-05-29T15:59:36.130256Z"
    }
   }
  },
  {
   "cell_type": "code",
   "execution_count": 5,
   "metadata": {
    "collapsed": true,
    "ExecuteTime": {
     "end_time": "2023-05-29T16:00:43.258572400Z",
     "start_time": "2023-05-29T15:59:38.296940300Z"
    }
   },
   "outputs": [
    {
     "name": "stderr",
     "output_type": "stream",
     "text": [
      "C:\\Users\\razva\\TUD\\Y2\\Quarter 4- SP\\Multi-Modal Edge-AI\\venv\\lib\\site-packages\\sklearn\\preprocessing\\_label.py:155: DataConversionWarning: A column-vector y was passed when a 1d array was expected. Please change the shape of y to (n_samples, ), for example using ravel().\n",
      "  y = column_or_1d(y, warn=True)\n"
     ]
    },
    {
     "name": "stdout",
     "output_type": "stream",
     "text": [
      "   Sleeping  Meal_Preparation  Kitchen_Usage  Bathroom_Usage  Idle  Relax   \n",
      "0      1279                 0              0               0     0      0  \\\n",
      "1         0                47              0               1     5      0   \n",
      "2         0                 0              0               0     0      0   \n",
      "3         0                 1              0               8    27      0   \n",
      "4         3                 6              0               4    39     38   \n",
      "5         0                 1              0               1     4   1312   \n",
      "6         0                 0              0               0     0      0   \n",
      "\n",
      "   Outside  \n",
      "0        0  \n",
      "1       28  \n",
      "2        0  \n",
      "3       16  \n",
      "4       74  \n",
      "5        8  \n",
      "6      278  \n",
      "0.9317610062893081\n"
     ]
    }
   ],
   "source": [
    "from multi_modal_edge_ai.commons.string_label_encoder import StringLabelEncoder\n",
    "\n",
    "adls = ['Sleeping', 'Meal_Preparation', 'Kitchen_Usage', 'Bathroom_Usage', 'Idle', 'Relax', 'Outside']\n",
    "sensors = ['motion_bedroom', 'contact_bathroom', 'motion_kitchen', 'motion_living', 'contact_entrance', 'contact_fridge', 'power_microwave']\n",
    "\n",
    "adl_encoder = StringLabelEncoder(adls)\n",
    "ground_truth_A['Activity'] = ground_truth_A['Activity'].apply(adl_encoder.encode_label)\n",
    "ground_truth_B['Activity'] = ground_truth_B['Activity'].apply(adl_encoder.encode_label)\n",
    "default_act = adl_encoder.encode_label('Idle')\n",
    "\n",
    "\n",
    "model = SVMModel() # create svm model\n",
    "\n",
    "avg, cm = split_and_validate(data_A,\n",
    "                             ground_truth_A,\n",
    "                             adls,\n",
    "                             adl_encoder,\n",
    "                             default_act,\n",
    "                             model,\n",
    "                             window_length_seconds=window_length_seconds,\n",
    "                             window_slide_seconds=window_slide_seconds)\n",
    "\n",
    "cm = pd.DataFrame(cm, columns=adls)\n",
    "pd.set_option(\"display.max_columns\", 10)\n",
    "print(cm)\n",
    "print(avg)"
   ]
  },
  {
   "cell_type": "code",
   "execution_count": 6,
   "outputs": [
    {
     "name": "stderr",
     "output_type": "stream",
     "text": [
      "C:\\Users\\razva\\TUD\\Y2\\Quarter 4- SP\\Multi-Modal Edge-AI\\venv\\lib\\site-packages\\sklearn\\svm\\_base.py:299: ConvergenceWarning: Solver terminated early (max_iter=1000).  Consider pre-processing your data with StandardScaler or MinMaxScaler.\n",
      "  warnings.warn(\n",
      "C:\\Users\\razva\\TUD\\Y2\\Quarter 4- SP\\Multi-Modal Edge-AI\\venv\\lib\\site-packages\\sklearn\\preprocessing\\_label.py:155: DataConversionWarning: A column-vector y was passed when a 1d array was expected. Please change the shape of y to (n_samples, ), for example using ravel().\n",
      "  y = column_or_1d(y, warn=True)\n"
     ]
    },
    {
     "name": "stdout",
     "output_type": "stream",
     "text": [
      "4 1000 linear 0.9342767295597484\n"
     ]
    },
    {
     "name": "stderr",
     "output_type": "stream",
     "text": [
      "C:\\Users\\razva\\TUD\\Y2\\Quarter 4- SP\\Multi-Modal Edge-AI\\venv\\lib\\site-packages\\sklearn\\preprocessing\\_label.py:155: DataConversionWarning: A column-vector y was passed when a 1d array was expected. Please change the shape of y to (n_samples, ), for example using ravel().\n",
      "  y = column_or_1d(y, warn=True)\n"
     ]
    },
    {
     "name": "stdout",
     "output_type": "stream",
     "text": [
      "4 1000 rbf 0.9349056603773584\n"
     ]
    },
    {
     "name": "stderr",
     "output_type": "stream",
     "text": [
      "C:\\Users\\razva\\TUD\\Y2\\Quarter 4- SP\\Multi-Modal Edge-AI\\venv\\lib\\site-packages\\sklearn\\svm\\_base.py:299: ConvergenceWarning: Solver terminated early (max_iter=2000).  Consider pre-processing your data with StandardScaler or MinMaxScaler.\n",
      "  warnings.warn(\n",
      "C:\\Users\\razva\\TUD\\Y2\\Quarter 4- SP\\Multi-Modal Edge-AI\\venv\\lib\\site-packages\\sklearn\\preprocessing\\_label.py:155: DataConversionWarning: A column-vector y was passed when a 1d array was expected. Please change the shape of y to (n_samples, ), for example using ravel().\n",
      "  y = column_or_1d(y, warn=True)\n"
     ]
    },
    {
     "name": "stdout",
     "output_type": "stream",
     "text": [
      "4 2000 linear 0.9330188679245283\n"
     ]
    },
    {
     "name": "stderr",
     "output_type": "stream",
     "text": [
      "C:\\Users\\razva\\TUD\\Y2\\Quarter 4- SP\\Multi-Modal Edge-AI\\venv\\lib\\site-packages\\sklearn\\preprocessing\\_label.py:155: DataConversionWarning: A column-vector y was passed when a 1d array was expected. Please change the shape of y to (n_samples, ), for example using ravel().\n",
      "  y = column_or_1d(y, warn=True)\n"
     ]
    },
    {
     "name": "stdout",
     "output_type": "stream",
     "text": [
      "4 2000 rbf 0.9349056603773584\n"
     ]
    },
    {
     "name": "stderr",
     "output_type": "stream",
     "text": [
      "C:\\Users\\razva\\TUD\\Y2\\Quarter 4- SP\\Multi-Modal Edge-AI\\venv\\lib\\site-packages\\sklearn\\preprocessing\\_label.py:155: DataConversionWarning: A column-vector y was passed when a 1d array was expected. Please change the shape of y to (n_samples, ), for example using ravel().\n",
      "  y = column_or_1d(y, warn=True)\n"
     ]
    },
    {
     "name": "stdout",
     "output_type": "stream",
     "text": [
      "4 -1 linear 0.9330188679245283\n"
     ]
    },
    {
     "ename": "KeyboardInterrupt",
     "evalue": "",
     "output_type": "error",
     "traceback": [
      "\u001B[1;31m---------------------------------------------------------------------------\u001B[0m",
      "\u001B[1;31mKeyboardInterrupt\u001B[0m                         Traceback (most recent call last)",
      "Cell \u001B[1;32mIn[6], line 27\u001B[0m\n\u001B[0;32m     24\u001B[0m \u001B[38;5;28;01mfor\u001B[39;00m kernel \u001B[38;5;129;01min\u001B[39;00m param_grid[\u001B[38;5;124m'\u001B[39m\u001B[38;5;124mkernel\u001B[39m\u001B[38;5;124m'\u001B[39m]:\n\u001B[0;32m     25\u001B[0m     \u001B[38;5;66;03m# Create an instance of the SVMModel with current hyperparameters\u001B[39;00m\n\u001B[0;32m     26\u001B[0m     model \u001B[38;5;241m=\u001B[39m SVMModel(n_components\u001B[38;5;241m=\u001B[39mn_components, max_iter\u001B[38;5;241m=\u001B[39mmax_iter, kernel\u001B[38;5;241m=\u001B[39mkernel)\n\u001B[1;32m---> 27\u001B[0m     score \u001B[38;5;241m=\u001B[39m \u001B[43mvalidate\u001B[49m\u001B[43m(\u001B[49m\u001B[43mtrain\u001B[49m\u001B[43m,\u001B[49m\u001B[43m \u001B[49m\u001B[43mtest\u001B[49m\u001B[43m,\u001B[49m\u001B[43m \u001B[49m\u001B[43mmodel\u001B[49m\u001B[43m,\u001B[49m\u001B[43m \u001B[49m\u001B[43madls\u001B[49m\u001B[43m,\u001B[49m\u001B[43m \u001B[49m\u001B[43madl_encoder\u001B[49m\u001B[43m)\u001B[49m\n\u001B[0;32m     28\u001B[0m     \u001B[38;5;28mprint\u001B[39m(n_components, max_iter, kernel, score[\u001B[38;5;241m0\u001B[39m])\n\u001B[0;32m     29\u001B[0m     \u001B[38;5;66;03m# Check if the current score is better than the previous best score\u001B[39;00m\n",
      "File \u001B[1;32m~\\TUD\\Y2\\Quarter 4- SP\\Multi-Modal Edge-AI\\multi_modal_edge_ai\\models\\adl_inference\\validating\\validate.py:67\u001B[0m, in \u001B[0;36mvalidate\u001B[1;34m(train, test, model, labels, label_encoder, model_hyperparams)\u001B[0m\n\u001B[0;32m     65\u001B[0m \u001B[38;5;28;01mif\u001B[39;00m model_hyperparams \u001B[38;5;129;01mis\u001B[39;00m \u001B[38;5;28;01mNone\u001B[39;00m:\n\u001B[0;32m     66\u001B[0m     model_hyperparams \u001B[38;5;241m=\u001B[39m {}\n\u001B[1;32m---> 67\u001B[0m model\u001B[38;5;241m.\u001B[39mtrain(train, \u001B[38;5;241m*\u001B[39m\u001B[38;5;241m*\u001B[39mmodel_hyperparams)\n\u001B[0;32m     69\u001B[0m \u001B[38;5;66;03m# Predict activities for test data using model\u001B[39;00m\n\u001B[0;32m     70\u001B[0m score \u001B[38;5;241m=\u001B[39m \u001B[38;5;241m0\u001B[39m\n",
      "File \u001B[1;32m~\\TUD\\Y2\\Quarter 4- SP\\Multi-Modal Edge-AI\\multi_modal_edge_ai\\models\\adl_inference\\ml_models\\svm_model.py:37\u001B[0m, in \u001B[0;36mSVMModel.train\u001B[1;34m(self, data, **hyperparams)\u001B[0m\n\u001B[0;32m     35\u001B[0m \u001B[38;5;66;03m# retrieve features and labels from window\u001B[39;00m\n\u001B[0;32m     36\u001B[0m sensors \u001B[38;5;241m=\u001B[39m [window[\u001B[38;5;241m0\u001B[39m] \u001B[38;5;28;01mfor\u001B[39;00m window \u001B[38;5;129;01min\u001B[39;00m data]\n\u001B[1;32m---> 37\u001B[0m features \u001B[38;5;241m=\u001B[39m \u001B[43mextract_features_dataset\u001B[49m\u001B[43m(\u001B[49m\u001B[43msensors\u001B[49m\u001B[43m)\u001B[49m\n\u001B[0;32m     38\u001B[0m labels \u001B[38;5;241m=\u001B[39m np\u001B[38;5;241m.\u001B[39marray([window[\u001B[38;5;241m1\u001B[39m] \u001B[38;5;28;01mfor\u001B[39;00m window \u001B[38;5;129;01min\u001B[39;00m data])\n\u001B[0;32m     39\u001B[0m \u001B[38;5;28mself\u001B[39m\u001B[38;5;241m.\u001B[39mmodel\u001B[38;5;241m.\u001B[39mfit(features, labels)\n",
      "File \u001B[1;32m~\\TUD\\Y2\\Quarter 4- SP\\Multi-Modal Edge-AI\\multi_modal_edge_ai\\models\\adl_inference\\preprocessing\\svm_feature_extractor.py:16\u001B[0m, in \u001B[0;36mextract_features_dataset\u001B[1;34m(sensor_dfs)\u001B[0m\n\u001B[0;32m     14\u001B[0m features_list \u001B[38;5;241m=\u001B[39m []\n\u001B[0;32m     15\u001B[0m \u001B[38;5;28;01mfor\u001B[39;00m sensor_df \u001B[38;5;129;01min\u001B[39;00m sensor_dfs:\n\u001B[1;32m---> 16\u001B[0m     features_list\u001B[38;5;241m.\u001B[39mappend(\u001B[43mextract_features\u001B[49m\u001B[43m(\u001B[49m\u001B[43msensor_df\u001B[49m\u001B[43m)\u001B[49m)\n\u001B[0;32m     18\u001B[0m \u001B[38;5;28;01mreturn\u001B[39;00m np\u001B[38;5;241m.\u001B[39mvstack(features_list)\n",
      "File \u001B[1;32m~\\TUD\\Y2\\Quarter 4- SP\\Multi-Modal Edge-AI\\multi_modal_edge_ai\\models\\adl_inference\\preprocessing\\svm_feature_extractor.py:32\u001B[0m, in \u001B[0;36mextract_features\u001B[1;34m(df)\u001B[0m\n\u001B[0;32m     30\u001B[0m duration_living_room \u001B[38;5;241m=\u001B[39m total_sensor_duration(\u001B[38;5;124m'\u001B[39m\u001B[38;5;124mmotion_living\u001B[39m\u001B[38;5;124m'\u001B[39m, df)\n\u001B[0;32m     31\u001B[0m duration_kitchen \u001B[38;5;241m=\u001B[39m total_sensor_duration(\u001B[38;5;124m'\u001B[39m\u001B[38;5;124mmotion_kitchen\u001B[39m\u001B[38;5;124m'\u001B[39m, df)\n\u001B[1;32m---> 32\u001B[0m duration_tv \u001B[38;5;241m=\u001B[39m \u001B[43mtotal_sensor_duration\u001B[49m\u001B[43m(\u001B[49m\u001B[38;5;124;43m'\u001B[39;49m\u001B[38;5;124;43mpower_tv\u001B[39;49m\u001B[38;5;124;43m'\u001B[39;49m\u001B[43m,\u001B[49m\u001B[43m \u001B[49m\u001B[43mdf\u001B[49m\u001B[43m)\u001B[49m\n\u001B[0;32m     33\u001B[0m duration_microwave \u001B[38;5;241m=\u001B[39m total_sensor_duration(\u001B[38;5;124m'\u001B[39m\u001B[38;5;124mpower_microwave\u001B[39m\u001B[38;5;124m'\u001B[39m, df)\n\u001B[0;32m     34\u001B[0m opens_fridge \u001B[38;5;241m=\u001B[39m \u001B[38;5;28mlen\u001B[39m(df[df[\u001B[38;5;124m'\u001B[39m\u001B[38;5;124mSensor\u001B[39m\u001B[38;5;124m'\u001B[39m] \u001B[38;5;241m==\u001B[39m \u001B[38;5;124m'\u001B[39m\u001B[38;5;124mcontact_fridge\u001B[39m\u001B[38;5;124m'\u001B[39m])\n",
      "File \u001B[1;32m~\\TUD\\Y2\\Quarter 4- SP\\Multi-Modal Edge-AI\\multi_modal_edge_ai\\models\\adl_inference\\preprocessing\\svm_feature_extractor.py:50\u001B[0m, in \u001B[0;36mtotal_sensor_duration\u001B[1;34m(sensor_name, df)\u001B[0m\n\u001B[0;32m     42\u001B[0m \u001B[38;5;28;01mdef\u001B[39;00m \u001B[38;5;21mtotal_sensor_duration\u001B[39m(sensor_name: \u001B[38;5;28mstr\u001B[39m, df: pd\u001B[38;5;241m.\u001B[39mDataFrame) \u001B[38;5;241m-\u001B[39m\u001B[38;5;241m>\u001B[39m \u001B[38;5;28mfloat\u001B[39m:\n\u001B[0;32m     43\u001B[0m \u001B[38;5;250m    \u001B[39m\u001B[38;5;124;03m\"\"\"\u001B[39;00m\n\u001B[0;32m     44\u001B[0m \u001B[38;5;124;03m    Calculates the total duration of a specific sensor's activity in the given DataFrame.\u001B[39;00m\n\u001B[0;32m     45\u001B[0m \n\u001B[1;32m   (...)\u001B[0m\n\u001B[0;32m     48\u001B[0m \u001B[38;5;124;03m    :return: The total duration of the sensor's activity in seconds.\u001B[39;00m\n\u001B[0;32m     49\u001B[0m \u001B[38;5;124;03m    \"\"\"\u001B[39;00m\n\u001B[1;32m---> 50\u001B[0m     filtered_rows \u001B[38;5;241m=\u001B[39m \u001B[43mdf\u001B[49m\u001B[43m[\u001B[49m\u001B[43mdf\u001B[49m\u001B[43m[\u001B[49m\u001B[38;5;124;43m'\u001B[39;49m\u001B[38;5;124;43mSensor\u001B[39;49m\u001B[38;5;124;43m'\u001B[39;49m\u001B[43m]\u001B[49m\u001B[43m \u001B[49m\u001B[38;5;241;43m==\u001B[39;49m\u001B[43m \u001B[49m\u001B[43msensor_name\u001B[49m\u001B[43m]\u001B[49m\n\u001B[0;32m     51\u001B[0m     \u001B[38;5;28;01mif\u001B[39;00m filtered_rows\u001B[38;5;241m.\u001B[39mempty:\n\u001B[0;32m     52\u001B[0m         total_duration \u001B[38;5;241m=\u001B[39m \u001B[38;5;241m0\u001B[39m  \u001B[38;5;66;03m# Return 0 if there are no matching rows\u001B[39;00m\n",
      "File \u001B[1;32m~\\TUD\\Y2\\Quarter 4- SP\\Multi-Modal Edge-AI\\venv\\lib\\site-packages\\pandas\\core\\frame.py:3752\u001B[0m, in \u001B[0;36mDataFrame.__getitem__\u001B[1;34m(self, key)\u001B[0m\n\u001B[0;32m   3750\u001B[0m \u001B[38;5;66;03m# Do we have a (boolean) 1d indexer?\u001B[39;00m\n\u001B[0;32m   3751\u001B[0m \u001B[38;5;28;01mif\u001B[39;00m com\u001B[38;5;241m.\u001B[39mis_bool_indexer(key):\n\u001B[1;32m-> 3752\u001B[0m     \u001B[38;5;28;01mreturn\u001B[39;00m \u001B[38;5;28;43mself\u001B[39;49m\u001B[38;5;241;43m.\u001B[39;49m\u001B[43m_getitem_bool_array\u001B[49m\u001B[43m(\u001B[49m\u001B[43mkey\u001B[49m\u001B[43m)\u001B[49m\n\u001B[0;32m   3754\u001B[0m \u001B[38;5;66;03m# We are left with two options: a single key, and a collection of keys,\u001B[39;00m\n\u001B[0;32m   3755\u001B[0m \u001B[38;5;66;03m# We interpret tuples as collections only for non-MultiIndex\u001B[39;00m\n\u001B[0;32m   3756\u001B[0m is_single_key \u001B[38;5;241m=\u001B[39m \u001B[38;5;28misinstance\u001B[39m(key, \u001B[38;5;28mtuple\u001B[39m) \u001B[38;5;129;01mor\u001B[39;00m \u001B[38;5;129;01mnot\u001B[39;00m is_list_like(key)\n",
      "File \u001B[1;32m~\\TUD\\Y2\\Quarter 4- SP\\Multi-Modal Edge-AI\\venv\\lib\\site-packages\\pandas\\core\\frame.py:3808\u001B[0m, in \u001B[0;36mDataFrame._getitem_bool_array\u001B[1;34m(self, key)\u001B[0m\n\u001B[0;32m   3805\u001B[0m key \u001B[38;5;241m=\u001B[39m check_bool_indexer(\u001B[38;5;28mself\u001B[39m\u001B[38;5;241m.\u001B[39mindex, key)\n\u001B[0;32m   3807\u001B[0m \u001B[38;5;28;01mif\u001B[39;00m key\u001B[38;5;241m.\u001B[39mall():\n\u001B[1;32m-> 3808\u001B[0m     \u001B[38;5;28;01mreturn\u001B[39;00m \u001B[38;5;28;43mself\u001B[39;49m\u001B[38;5;241;43m.\u001B[39;49m\u001B[43mcopy\u001B[49m\u001B[43m(\u001B[49m\u001B[43mdeep\u001B[49m\u001B[38;5;241;43m=\u001B[39;49m\u001B[38;5;28;43;01mNone\u001B[39;49;00m\u001B[43m)\u001B[49m\n\u001B[0;32m   3810\u001B[0m indexer \u001B[38;5;241m=\u001B[39m key\u001B[38;5;241m.\u001B[39mnonzero()[\u001B[38;5;241m0\u001B[39m]\n\u001B[0;32m   3811\u001B[0m \u001B[38;5;28;01mreturn\u001B[39;00m \u001B[38;5;28mself\u001B[39m\u001B[38;5;241m.\u001B[39m_take_with_is_copy(indexer, axis\u001B[38;5;241m=\u001B[39m\u001B[38;5;241m0\u001B[39m)\n",
      "File \u001B[1;32m~\\TUD\\Y2\\Quarter 4- SP\\Multi-Modal Edge-AI\\venv\\lib\\site-packages\\pandas\\core\\generic.py:6452\u001B[0m, in \u001B[0;36mNDFrame.copy\u001B[1;34m(self, deep)\u001B[0m\n\u001B[0;32m   6342\u001B[0m \u001B[38;5;129m@final\u001B[39m\n\u001B[0;32m   6343\u001B[0m \u001B[38;5;28;01mdef\u001B[39;00m \u001B[38;5;21mcopy\u001B[39m(\u001B[38;5;28mself\u001B[39m: NDFrameT, deep: bool_t \u001B[38;5;241m|\u001B[39m \u001B[38;5;28;01mNone\u001B[39;00m \u001B[38;5;241m=\u001B[39m \u001B[38;5;28;01mTrue\u001B[39;00m) \u001B[38;5;241m-\u001B[39m\u001B[38;5;241m>\u001B[39m NDFrameT:\n\u001B[0;32m   6344\u001B[0m \u001B[38;5;250m    \u001B[39m\u001B[38;5;124;03m\"\"\"\u001B[39;00m\n\u001B[0;32m   6345\u001B[0m \u001B[38;5;124;03m    Make a copy of this object's indices and data.\u001B[39;00m\n\u001B[0;32m   6346\u001B[0m \n\u001B[1;32m   (...)\u001B[0m\n\u001B[0;32m   6450\u001B[0m \u001B[38;5;124;03m    dtype: object\u001B[39;00m\n\u001B[0;32m   6451\u001B[0m \u001B[38;5;124;03m    \"\"\"\u001B[39;00m\n\u001B[1;32m-> 6452\u001B[0m     data \u001B[38;5;241m=\u001B[39m \u001B[38;5;28;43mself\u001B[39;49m\u001B[38;5;241;43m.\u001B[39;49m\u001B[43m_mgr\u001B[49m\u001B[38;5;241;43m.\u001B[39;49m\u001B[43mcopy\u001B[49m\u001B[43m(\u001B[49m\u001B[43mdeep\u001B[49m\u001B[38;5;241;43m=\u001B[39;49m\u001B[43mdeep\u001B[49m\u001B[43m)\u001B[49m\n\u001B[0;32m   6453\u001B[0m     \u001B[38;5;28mself\u001B[39m\u001B[38;5;241m.\u001B[39m_clear_item_cache()\n\u001B[0;32m   6454\u001B[0m     \u001B[38;5;28;01mreturn\u001B[39;00m \u001B[38;5;28mself\u001B[39m\u001B[38;5;241m.\u001B[39m_constructor(data)\u001B[38;5;241m.\u001B[39m__finalize__(\u001B[38;5;28mself\u001B[39m, method\u001B[38;5;241m=\u001B[39m\u001B[38;5;124m\"\u001B[39m\u001B[38;5;124mcopy\u001B[39m\u001B[38;5;124m\"\u001B[39m)\n",
      "File \u001B[1;32m~\\TUD\\Y2\\Quarter 4- SP\\Multi-Modal Edge-AI\\venv\\lib\\site-packages\\pandas\\core\\internals\\managers.py:664\u001B[0m, in \u001B[0;36mBaseBlockManager.copy\u001B[1;34m(self, deep)\u001B[0m\n\u001B[0;32m    661\u001B[0m         res\u001B[38;5;241m.\u001B[39m_blklocs \u001B[38;5;241m=\u001B[39m \u001B[38;5;28mself\u001B[39m\u001B[38;5;241m.\u001B[39m_blklocs\u001B[38;5;241m.\u001B[39mcopy()\n\u001B[0;32m    663\u001B[0m \u001B[38;5;28;01mif\u001B[39;00m deep:\n\u001B[1;32m--> 664\u001B[0m     \u001B[43mres\u001B[49m\u001B[38;5;241;43m.\u001B[39;49m\u001B[43m_consolidate_inplace\u001B[49m\u001B[43m(\u001B[49m\u001B[43m)\u001B[49m\n\u001B[0;32m    665\u001B[0m \u001B[38;5;28;01mreturn\u001B[39;00m res\n",
      "File \u001B[1;32m~\\TUD\\Y2\\Quarter 4- SP\\Multi-Modal Edge-AI\\venv\\lib\\site-packages\\pandas\\core\\internals\\managers.py:1829\u001B[0m, in \u001B[0;36mBlockManager._consolidate_inplace\u001B[1;34m(self)\u001B[0m\n\u001B[0;32m   1823\u001B[0m \u001B[38;5;28;01mdef\u001B[39;00m \u001B[38;5;21m_consolidate_inplace\u001B[39m(\u001B[38;5;28mself\u001B[39m) \u001B[38;5;241m-\u001B[39m\u001B[38;5;241m>\u001B[39m \u001B[38;5;28;01mNone\u001B[39;00m:\n\u001B[0;32m   1824\u001B[0m     \u001B[38;5;66;03m# In general, _consolidate_inplace should only be called via\u001B[39;00m\n\u001B[0;32m   1825\u001B[0m     \u001B[38;5;66;03m#  DataFrame._consolidate_inplace, otherwise we will fail to invalidate\u001B[39;00m\n\u001B[0;32m   1826\u001B[0m     \u001B[38;5;66;03m#  the DataFrame's _item_cache. The exception is for newly-created\u001B[39;00m\n\u001B[0;32m   1827\u001B[0m     \u001B[38;5;66;03m#  BlockManager objects not yet attached to a DataFrame.\u001B[39;00m\n\u001B[0;32m   1828\u001B[0m     \u001B[38;5;28;01mif\u001B[39;00m \u001B[38;5;129;01mnot\u001B[39;00m \u001B[38;5;28mself\u001B[39m\u001B[38;5;241m.\u001B[39mis_consolidated():\n\u001B[1;32m-> 1829\u001B[0m         \u001B[38;5;28mself\u001B[39m\u001B[38;5;241m.\u001B[39mblocks \u001B[38;5;241m=\u001B[39m \u001B[43m_consolidate\u001B[49m\u001B[43m(\u001B[49m\u001B[38;5;28;43mself\u001B[39;49m\u001B[38;5;241;43m.\u001B[39;49m\u001B[43mblocks\u001B[49m\u001B[43m)\u001B[49m\n\u001B[0;32m   1830\u001B[0m         \u001B[38;5;28mself\u001B[39m\u001B[38;5;241m.\u001B[39m_is_consolidated \u001B[38;5;241m=\u001B[39m \u001B[38;5;28;01mTrue\u001B[39;00m\n\u001B[0;32m   1831\u001B[0m         \u001B[38;5;28mself\u001B[39m\u001B[38;5;241m.\u001B[39m_known_consolidated \u001B[38;5;241m=\u001B[39m \u001B[38;5;28;01mTrue\u001B[39;00m\n",
      "File \u001B[1;32m~\\TUD\\Y2\\Quarter 4- SP\\Multi-Modal Edge-AI\\venv\\lib\\site-packages\\pandas\\core\\internals\\managers.py:2272\u001B[0m, in \u001B[0;36m_consolidate\u001B[1;34m(blocks)\u001B[0m\n\u001B[0;32m   2270\u001B[0m new_blocks: \u001B[38;5;28mlist\u001B[39m[Block] \u001B[38;5;241m=\u001B[39m []\n\u001B[0;32m   2271\u001B[0m \u001B[38;5;28;01mfor\u001B[39;00m (_can_consolidate, dtype), group_blocks \u001B[38;5;129;01min\u001B[39;00m grouper:\n\u001B[1;32m-> 2272\u001B[0m     merged_blocks, _ \u001B[38;5;241m=\u001B[39m \u001B[43m_merge_blocks\u001B[49m\u001B[43m(\u001B[49m\n\u001B[0;32m   2273\u001B[0m \u001B[43m        \u001B[49m\u001B[38;5;28;43mlist\u001B[39;49m\u001B[43m(\u001B[49m\u001B[43mgroup_blocks\u001B[49m\u001B[43m)\u001B[49m\u001B[43m,\u001B[49m\u001B[43m \u001B[49m\u001B[43mdtype\u001B[49m\u001B[38;5;241;43m=\u001B[39;49m\u001B[43mdtype\u001B[49m\u001B[43m,\u001B[49m\u001B[43m \u001B[49m\u001B[43mcan_consolidate\u001B[49m\u001B[38;5;241;43m=\u001B[39;49m\u001B[43m_can_consolidate\u001B[49m\n\u001B[0;32m   2274\u001B[0m \u001B[43m    \u001B[49m\u001B[43m)\u001B[49m\n\u001B[0;32m   2275\u001B[0m     new_blocks \u001B[38;5;241m=\u001B[39m extend_blocks(merged_blocks, new_blocks)\n\u001B[0;32m   2276\u001B[0m \u001B[38;5;28;01mreturn\u001B[39;00m \u001B[38;5;28mtuple\u001B[39m(new_blocks)\n",
      "File \u001B[1;32m~\\TUD\\Y2\\Quarter 4- SP\\Multi-Modal Edge-AI\\venv\\lib\\site-packages\\pandas\\core\\internals\\managers.py:2303\u001B[0m, in \u001B[0;36m_merge_blocks\u001B[1;34m(blocks, dtype, can_consolidate)\u001B[0m\n\u001B[0;32m   2300\u001B[0m     bvals2 \u001B[38;5;241m=\u001B[39m cast(Sequence[NDArrayBackedExtensionArray], bvals)\n\u001B[0;32m   2301\u001B[0m     new_values \u001B[38;5;241m=\u001B[39m bvals2[\u001B[38;5;241m0\u001B[39m]\u001B[38;5;241m.\u001B[39m_concat_same_type(bvals2, axis\u001B[38;5;241m=\u001B[39m\u001B[38;5;241m0\u001B[39m)\n\u001B[1;32m-> 2303\u001B[0m argsort \u001B[38;5;241m=\u001B[39m \u001B[43mnp\u001B[49m\u001B[38;5;241;43m.\u001B[39;49m\u001B[43margsort\u001B[49m\u001B[43m(\u001B[49m\u001B[43mnew_mgr_locs\u001B[49m\u001B[43m)\u001B[49m\n\u001B[0;32m   2304\u001B[0m new_values \u001B[38;5;241m=\u001B[39m new_values[argsort]\n\u001B[0;32m   2305\u001B[0m new_mgr_locs \u001B[38;5;241m=\u001B[39m new_mgr_locs[argsort]\n",
      "File \u001B[1;32m<__array_function__ internals>:200\u001B[0m, in \u001B[0;36margsort\u001B[1;34m(*args, **kwargs)\u001B[0m\n",
      "File \u001B[1;32m~\\TUD\\Y2\\Quarter 4- SP\\Multi-Modal Edge-AI\\venv\\lib\\site-packages\\numpy\\core\\fromnumeric.py:1146\u001B[0m, in \u001B[0;36margsort\u001B[1;34m(a, axis, kind, order)\u001B[0m\n\u001B[0;32m   1038\u001B[0m \u001B[38;5;129m@array_function_dispatch\u001B[39m(_argsort_dispatcher)\n\u001B[0;32m   1039\u001B[0m \u001B[38;5;28;01mdef\u001B[39;00m \u001B[38;5;21margsort\u001B[39m(a, axis\u001B[38;5;241m=\u001B[39m\u001B[38;5;241m-\u001B[39m\u001B[38;5;241m1\u001B[39m, kind\u001B[38;5;241m=\u001B[39m\u001B[38;5;28;01mNone\u001B[39;00m, order\u001B[38;5;241m=\u001B[39m\u001B[38;5;28;01mNone\u001B[39;00m):\n\u001B[0;32m   1040\u001B[0m \u001B[38;5;250m    \u001B[39m\u001B[38;5;124;03m\"\"\"\u001B[39;00m\n\u001B[0;32m   1041\u001B[0m \u001B[38;5;124;03m    Returns the indices that would sort an array.\u001B[39;00m\n\u001B[0;32m   1042\u001B[0m \n\u001B[1;32m   (...)\u001B[0m\n\u001B[0;32m   1144\u001B[0m \n\u001B[0;32m   1145\u001B[0m \u001B[38;5;124;03m    \"\"\"\u001B[39;00m\n\u001B[1;32m-> 1146\u001B[0m     \u001B[38;5;28;01mreturn\u001B[39;00m \u001B[43m_wrapfunc\u001B[49m\u001B[43m(\u001B[49m\u001B[43ma\u001B[49m\u001B[43m,\u001B[49m\u001B[43m \u001B[49m\u001B[38;5;124;43m'\u001B[39;49m\u001B[38;5;124;43margsort\u001B[39;49m\u001B[38;5;124;43m'\u001B[39;49m\u001B[43m,\u001B[49m\u001B[43m \u001B[49m\u001B[43maxis\u001B[49m\u001B[38;5;241;43m=\u001B[39;49m\u001B[43maxis\u001B[49m\u001B[43m,\u001B[49m\u001B[43m \u001B[49m\u001B[43mkind\u001B[49m\u001B[38;5;241;43m=\u001B[39;49m\u001B[43mkind\u001B[49m\u001B[43m,\u001B[49m\u001B[43m \u001B[49m\u001B[43morder\u001B[49m\u001B[38;5;241;43m=\u001B[39;49m\u001B[43morder\u001B[49m\u001B[43m)\u001B[49m\n",
      "File \u001B[1;32m~\\TUD\\Y2\\Quarter 4- SP\\Multi-Modal Edge-AI\\venv\\lib\\site-packages\\numpy\\core\\fromnumeric.py:57\u001B[0m, in \u001B[0;36m_wrapfunc\u001B[1;34m(obj, method, *args, **kwds)\u001B[0m\n\u001B[0;32m     54\u001B[0m     \u001B[38;5;28;01mreturn\u001B[39;00m _wrapit(obj, method, \u001B[38;5;241m*\u001B[39margs, \u001B[38;5;241m*\u001B[39m\u001B[38;5;241m*\u001B[39mkwds)\n\u001B[0;32m     56\u001B[0m \u001B[38;5;28;01mtry\u001B[39;00m:\n\u001B[1;32m---> 57\u001B[0m     \u001B[38;5;28;01mreturn\u001B[39;00m bound(\u001B[38;5;241m*\u001B[39margs, \u001B[38;5;241m*\u001B[39m\u001B[38;5;241m*\u001B[39mkwds)\n\u001B[0;32m     58\u001B[0m \u001B[38;5;28;01mexcept\u001B[39;00m \u001B[38;5;167;01mTypeError\u001B[39;00m:\n\u001B[0;32m     59\u001B[0m     \u001B[38;5;66;03m# A TypeError occurs if the object does have such a method in its\u001B[39;00m\n\u001B[0;32m     60\u001B[0m     \u001B[38;5;66;03m# class, but its signature is not identical to that of NumPy's. This\u001B[39;00m\n\u001B[1;32m   (...)\u001B[0m\n\u001B[0;32m     64\u001B[0m     \u001B[38;5;66;03m# Call _wrapit from within the except clause to ensure a potential\u001B[39;00m\n\u001B[0;32m     65\u001B[0m     \u001B[38;5;66;03m# exception has a traceback chain.\u001B[39;00m\n\u001B[0;32m     66\u001B[0m     \u001B[38;5;28;01mreturn\u001B[39;00m _wrapit(obj, method, \u001B[38;5;241m*\u001B[39margs, \u001B[38;5;241m*\u001B[39m\u001B[38;5;241m*\u001B[39mkwds)\n",
      "\u001B[1;31mKeyboardInterrupt\u001B[0m: "
     ]
    }
   ],
   "source": [
    "from multi_modal_edge_ai.models.adl_inference.validating.validate import validate\n",
    "from multi_modal_edge_ai.models.adl_inference.preprocessing.window_splitter import split_into_windows\n",
    "\n",
    "# Model parameters\n",
    "window_length_seconds = 300\n",
    "window_slide_seconds = 150\n",
    "\n",
    "windows = split_into_windows(data_A, ground_truth_A, default_act, window_length_seconds, window_slide_seconds)\n",
    "split_index = int(len(windows) * 0.6)\n",
    "train = windows[:split_index]\n",
    "test = windows[split_index:]\n",
    "\n",
    "# Define the hyperparameter grid\n",
    "param_grid = {\n",
    "    'n_components': [4, 6, 8],\n",
    "    'max_iter': [1000, 2000, -1],\n",
    "    'kernel': ['linear', 'rbf'],\n",
    "}\n",
    "\n",
    "best_score = 0\n",
    "best_params = None\n",
    "\n",
    "# Iterate over each combination of hyperparameters\n",
    "for n_components in param_grid['n_components']:\n",
    "    for max_iter in param_grid['max_iter']:\n",
    "        for kernel in param_grid['kernel']:\n",
    "            # Create an instance of the SVMModel with current hyperparameters\n",
    "            model = SVMModel(n_components=n_components, max_iter=max_iter, kernel=kernel)\n",
    "            score = validate(train, test, model, adls, adl_encoder)\n",
    "            print(n_components, max_iter, kernel, score[0])\n",
    "            # Check if the current score is better than the previous best score\n",
    "            if score[0] > best_score:\n",
    "                best_score = score[0]\n",
    "                best_params = {\n",
    "                    'n_components': n_components,\n",
    "                    'max_iter': max_iter,\n",
    "                    'kernel': kernel,\n",
    "                }\n",
    "\n",
    "# Print the best hyperparameters found\n",
    "print(\"Best hyperparameters:\", best_params)\n",
    "\n",
    "# Print the best score achieved\n",
    "print(\"Best score:\", best_score)"
   ],
   "metadata": {
    "collapsed": false,
    "ExecuteTime": {
     "end_time": "2023-05-29T16:03:59.577452Z",
     "start_time": "2023-05-29T16:01:32.695933100Z"
    }
   }
  }
 ],
 "metadata": {
  "kernelspec": {
   "display_name": "Python 3",
   "language": "python",
   "name": "python3"
  },
  "language_info": {
   "codemirror_mode": {
    "name": "ipython",
    "version": 2
   },
   "file_extension": ".py",
   "mimetype": "text/x-python",
   "name": "python",
   "nbconvert_exporter": "python",
   "pygments_lexer": "ipython2",
   "version": "2.7.6"
  }
 },
 "nbformat": 4,
 "nbformat_minor": 0
}
