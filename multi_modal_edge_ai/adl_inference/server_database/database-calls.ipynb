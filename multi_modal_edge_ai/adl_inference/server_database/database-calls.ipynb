{
 "cells": [
  {
   "cell_type": "code",
   "execution_count": null,
   "metadata": {
    "collapsed": true
   },
   "outputs": [],
   "source": [
    "from DatabaseTunnel import DatabaseTunnel\n",
    "\n",
    "# The following are the names of the databases:\n",
    "# sensor_data_AB123456789C\n",
    "# sensor_data_AB123456789D\n",
    "# sensor_data_00B31ECE4385\n",
    "# sensor_data_1234567ABC89\n",
    "\n",
    "dbt = DatabaseTunnel('sensor_data_AB123456789C')"
   ]
  },
  {
   "cell_type": "code",
   "execution_count": null,
   "outputs": [],
   "source": [
    "print(\"The statistics for the database are:\")\n",
    "print(\"The statistics for all the database entries are:\")\n",
    "dbt.plot_distributions_for_all_entries()"
   ],
   "metadata": {
    "collapsed": false
   }
  },
  {
   "cell_type": "code",
   "execution_count": null,
   "outputs": [],
   "source": [
    "print(\"The statistics for the power sensor entries are:\")\n",
    "dbt.plot_distributions_for_power_sensor_entries()"
   ],
   "metadata": {
    "collapsed": false
   }
  },
  {
   "cell_type": "code",
   "execution_count": null,
   "outputs": [],
   "source": [
    "print(\"The statistics for the contact sensor entries are:\")\n",
    "dbt.plot_distributions_for_contact_sensor_entries()"
   ],
   "metadata": {
    "collapsed": false
   }
  },
  {
   "cell_type": "code",
   "execution_count": null,
   "outputs": [],
   "source": [
    "print(\"The statistics for the pir sensor entries are:\")\n",
    "dbt.plot_distributions_for_pir_sensor_entries()"
   ],
   "metadata": {
    "collapsed": false
   }
  },
  {
   "cell_type": "code",
   "execution_count": null,
   "outputs": [],
   "source": [
    "print(\"The statistics for the button sensor entries are:\")\n",
    "dbt.plot_distributions_for_button_sensor_entries()"
   ],
   "metadata": {
    "collapsed": false
   }
  },
  {
   "cell_type": "code",
   "execution_count": null,
   "outputs": [],
   "source": [
    "docs = dbt.get_all_documents()\n",
    "file_path = \".\\output.txt\"\n",
    "f = open(file_path, \"w\")\n",
    "for i in docs:\n",
    "    f.write(str(i) + '\\n' + '\\n')\n",
    "print(\"All sensors have been written to the file: \" + file_path + \" in the following order: power, pir, contact\")\n",
    "# Note: if the file does not exist, it could take a bit of time to appear, please be patient"
   ],
   "metadata": {
    "collapsed": false
   }
  },
  {
   "cell_type": "code",
   "execution_count": null,
   "outputs": [],
   "source": [],
   "metadata": {
    "collapsed": false
   }
  }
 ],
 "metadata": {
  "kernelspec": {
   "display_name": "Python 3",
   "language": "python",
   "name": "python3"
  },
  "language_info": {
   "codemirror_mode": {
    "name": "ipython",
    "version": 2
   },
   "file_extension": ".py",
   "mimetype": "text/x-python",
   "name": "python",
   "nbconvert_exporter": "python",
   "pygments_lexer": "ipython2",
   "version": "2.7.6"
  }
 },
 "nbformat": 4,
 "nbformat_minor": 0
}
