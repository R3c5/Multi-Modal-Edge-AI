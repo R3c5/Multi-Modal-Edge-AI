{
 "cells": [
  {
   "cell_type": "markdown",
   "source": [
    "Playground to test out different models for validation."
   ],
   "metadata": {
    "collapsed": false
   }
  },
  {
   "cell_type": "code",
   "execution_count": 4,
   "metadata": {
    "collapsed": true,
    "ExecuteTime": {
     "end_time": "2023-05-23T14:03:50.985090339Z",
     "start_time": "2023-05-23T14:03:15.487326643Z"
    }
   },
   "outputs": [
    {
     "name": "stdout",
     "output_type": "stream",
     "text": [
      "   Sleeping  Meal_Preparation  Kitchen_Usage  Bathroom_Usage  Idle  Relax   \n",
      "0      1253                 0              0               0     0      0  \\\n",
      "1         0                39              0               0     3      0   \n",
      "2         0                 0              0               0     0      0   \n",
      "3         0                 1              0               6     4      0   \n",
      "4         1                 6              0               7    33     36   \n",
      "5         0                 1              0               0     1   1394   \n",
      "6         0                 0              0               0     8      0   \n",
      "\n",
      "   Outside  \n",
      "0        0  \n",
      "1       21  \n",
      "2        0  \n",
      "3       30  \n",
      "4       78  \n",
      "5        4  \n",
      "6      254  \n",
      "0.9367924528301886\n"
     ]
    }
   ],
   "source": [
    "# Imports\n",
    "from multi_modal_edge_ai.adl_inference.validate import split_and_validate\n",
    "from multi_modal_edge_ai.adl_inference.parser import parse_file\n",
    "from multi_modal_edge_ai.adl_inference.svm_model import SVMModel\n",
    "import pandas as pd\n",
    "\n",
    "data_A, ground_truth_A = parse_file(\"./public_dataset/OrdonezA_Sensors.csv\",\n",
    "                                    \"./public_dataset/OrdonezA_ADLs.csv\")\n",
    "data_B, ground_truth_B = parse_file(\"./public_dataset/OrdonezB_Sensors.csv\",\n",
    "                                    \"./public_dataset/OrdonezB_ADLs.csv\")\n",
    "\n",
    "\n",
    "model = SVMModel() # create svm model\n",
    "\n",
    "avg, cm = split_and_validate(data_A,\n",
    "                             ground_truth_A,\n",
    "                             model,\n",
    "                             window_length_seconds=300,\n",
    "                             window_slide_seconds=150)\n",
    "\n",
    "cm = pd.DataFrame(cm, columns=['Sleeping', 'Meal_Preparation', 'Kitchen_Usage', 'Bathroom_Usage', 'Idle', 'Relax', 'Outside'])\n",
    "pd.set_option(\"display.max_columns\", 10)\n",
    "print(cm)\n",
    "print(avg)\n"
   ]
  },
  {
   "cell_type": "code",
   "execution_count": null,
   "outputs": [],
   "source": [],
   "metadata": {
    "collapsed": false
   }
  }
 ],
 "metadata": {
  "kernelspec": {
   "display_name": "Python 3",
   "language": "python",
   "name": "python3"
  },
  "language_info": {
   "codemirror_mode": {
    "name": "ipython",
    "version": 2
   },
   "file_extension": ".py",
   "mimetype": "text/x-python",
   "name": "python",
   "nbconvert_exporter": "python",
   "pygments_lexer": "ipython2",
   "version": "2.7.6"
  }
 },
 "nbformat": 4,
 "nbformat_minor": 0
}
