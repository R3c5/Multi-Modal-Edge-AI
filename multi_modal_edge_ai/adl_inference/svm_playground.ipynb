{
 "cells": [
  {
   "cell_type": "markdown",
   "source": [
    "Playground to test out different models for validation."
   ],
   "metadata": {
    "collapsed": false
   }
  },
  {
   "cell_type": "code",
   "execution_count": 2,
   "outputs": [],
   "source": [
    "# Imports\n",
    "from multi_modal_edge_ai.adl_inference.validate import split_and_validate\n",
    "from multi_modal_edge_ai.adl_inference.parser import parse_file\n",
    "from multi_modal_edge_ai.adl_inference.svm_model import SVMModel\n",
    "import pandas as pd\n",
    "\n",
    "data_A, ground_truth_A = parse_file(\"./public_dataset/OrdonezA_Sensors.csv\",\n",
    "                                    \"./public_dataset/OrdonezA_ADLs.csv\")\n",
    "data_B, ground_truth_B = parse_file(\"./public_dataset/OrdonezB_Sensors.csv\",\n",
    "                                    \"./public_dataset/OrdonezB_ADLs.csv\")"
   ],
   "metadata": {
    "collapsed": false,
    "ExecuteTime": {
     "end_time": "2023-05-25T09:43:03.383317877Z",
     "start_time": "2023-05-25T09:43:02.213388397Z"
    }
   }
  },
  {
   "cell_type": "code",
   "execution_count": 7,
   "metadata": {
    "collapsed": true,
    "ExecuteTime": {
     "end_time": "2023-05-24T13:21:42.246811614Z",
     "start_time": "2023-05-24T13:21:05.484999114Z"
    }
   },
   "outputs": [
    {
     "name": "stdout",
     "output_type": "stream",
     "text": [
      "   Sleeping  Meal_Preparation  Kitchen_Usage  Bathroom_Usage  Idle  Relax   \n",
      "0      1280                 0              0               0     0      0  \\\n",
      "1         0                37              0               1     5      0   \n",
      "2         0                 0              0               0     0      0   \n",
      "3         0                 1              0               8     3      0   \n",
      "4         6                 6              0               7    34     35   \n",
      "5         0                 1              0               0     2   1338   \n",
      "6         0                 0              0               0     8      0   \n",
      "\n",
      "   Outside  \n",
      "0        0  \n",
      "1       18  \n",
      "2        0  \n",
      "3       35  \n",
      "4       79  \n",
      "5        4  \n",
      "6      272  \n",
      "0.9336477987421383\n"
     ]
    }
   ],
   "source": [
    "model = SVMModel() # create svm model\n",
    "\n",
    "avg, cm = split_and_validate(data_A,\n",
    "                             ground_truth_A,\n",
    "                             model,\n",
    "                             window_length_seconds=300,\n",
    "                             window_slide_seconds=150)\n",
    "\n",
    "cm = pd.DataFrame(cm, columns=['Sleeping', 'Meal_Preparation', 'Kitchen_Usage', 'Bathroom_Usage', 'Idle', 'Relax', 'Outside'])\n",
    "pd.set_option(\"display.max_columns\", 10)\n",
    "print(cm)\n",
    "print(avg)\n"
   ]
  },
  {
   "cell_type": "code",
   "execution_count": 17,
   "outputs": [
    {
     "name": "stderr",
     "output_type": "stream",
     "text": [
      "/home/roach/PycharmProjects/multi-modal-edge-ai/venv/lib/python3.10/site-packages/sklearn/svm/_base.py:299: ConvergenceWarning: Solver terminated early (max_iter=1000).  Consider pre-processing your data with StandardScaler or MinMaxScaler.\n",
      "  warnings.warn(\n"
     ]
    },
    {
     "name": "stdout",
     "output_type": "stream",
     "text": [
      "4 1000 linear 0.9292452830188679\n",
      "4 1000 rbf 0.9276729559748428\n"
     ]
    },
    {
     "name": "stderr",
     "output_type": "stream",
     "text": [
      "/home/roach/PycharmProjects/multi-modal-edge-ai/venv/lib/python3.10/site-packages/sklearn/svm/_base.py:299: ConvergenceWarning: Solver terminated early (max_iter=2000).  Consider pre-processing your data with StandardScaler or MinMaxScaler.\n",
      "  warnings.warn(\n"
     ]
    },
    {
     "name": "stdout",
     "output_type": "stream",
     "text": [
      "4 2000 linear 0.9292452830188679\n",
      "4 2000 rbf 0.9276729559748428\n",
      "4 -1 linear 0.9289308176100629\n",
      "4 -1 rbf 0.9276729559748428\n"
     ]
    },
    {
     "name": "stderr",
     "output_type": "stream",
     "text": [
      "/home/roach/PycharmProjects/multi-modal-edge-ai/venv/lib/python3.10/site-packages/sklearn/svm/_base.py:299: ConvergenceWarning: Solver terminated early (max_iter=1000).  Consider pre-processing your data with StandardScaler or MinMaxScaler.\n",
      "  warnings.warn(\n"
     ]
    },
    {
     "name": "stdout",
     "output_type": "stream",
     "text": [
      "6 1000 linear 0.929559748427673\n",
      "6 1000 rbf 0.9289308176100629\n"
     ]
    },
    {
     "name": "stderr",
     "output_type": "stream",
     "text": [
      "/home/roach/PycharmProjects/multi-modal-edge-ai/venv/lib/python3.10/site-packages/sklearn/svm/_base.py:299: ConvergenceWarning: Solver terminated early (max_iter=2000).  Consider pre-processing your data with StandardScaler or MinMaxScaler.\n",
      "  warnings.warn(\n"
     ]
    },
    {
     "name": "stdout",
     "output_type": "stream",
     "text": [
      "6 2000 linear 0.929559748427673\n",
      "6 2000 rbf 0.9289308176100629\n",
      "6 -1 linear 0.929559748427673\n",
      "6 -1 rbf 0.9289308176100629\n"
     ]
    },
    {
     "name": "stderr",
     "output_type": "stream",
     "text": [
      "/home/roach/PycharmProjects/multi-modal-edge-ai/venv/lib/python3.10/site-packages/sklearn/svm/_base.py:299: ConvergenceWarning: Solver terminated early (max_iter=1000).  Consider pre-processing your data with StandardScaler or MinMaxScaler.\n",
      "  warnings.warn(\n"
     ]
    },
    {
     "name": "stdout",
     "output_type": "stream",
     "text": [
      "8 1000 linear 0.9323899371069182\n",
      "8 1000 rbf 0.9314465408805032\n",
      "8 2000 linear 0.9327044025157233\n",
      "8 2000 rbf 0.9314465408805032\n",
      "8 -1 linear 0.9327044025157233\n",
      "8 -1 rbf 0.9314465408805032\n",
      "Best hyperparameters: {'n_components': 8, 'max_iter': 2000, 'kernel': 'linear'}\n",
      "Best score: 0.9327044025157233\n"
     ]
    }
   ],
   "source": [
    "from multi_modal_edge_ai.adl_inference.validate import validate\n",
    "from multi_modal_edge_ai.adl_inference.window_splitter import split_into_windows\n",
    "\n",
    "window_length_seconds = 300\n",
    "window_slide_seconds = 150\n",
    "windows = split_into_windows(data_A, ground_truth_A, window_length_seconds, window_slide_seconds)\n",
    "split_index = int(len(windows) * 0.6)\n",
    "train = windows[:split_index]\n",
    "test = windows[split_index:]\n",
    "\n",
    "# Define the hyperparameter grid\n",
    "param_grid = {\n",
    "    'n_components': [4, 6, 8],\n",
    "    'max_iter': [1000, 2000, -1],\n",
    "    'kernel': ['linear', 'rbf'],\n",
    "}\n",
    "\n",
    "best_score = 0\n",
    "best_params = None\n",
    "\n",
    "# Iterate over each combination of hyperparameters\n",
    "for n_components in param_grid['n_components']:\n",
    "    for max_iter in param_grid['max_iter']:\n",
    "        for kernel in param_grid['kernel']:\n",
    "            # Create an instance of the SVMModel with current hyperparameters\n",
    "            model = SVMModel(n_components=n_components, max_iter=max_iter, kernel=kernel)\n",
    "            score = validate(train, test, model)\n",
    "            print(n_components, max_iter, kernel, score[0])\n",
    "            # Check if the current score is better than the previous best score\n",
    "            if score[0] > best_score:\n",
    "                best_score = score[0]\n",
    "                best_params = {\n",
    "                    'n_components': n_components,\n",
    "                    'max_iter': max_iter,\n",
    "                    'kernel': kernel,\n",
    "                }\n",
    "\n",
    "# Print the best hyperparameters found\n",
    "print(\"Best hyperparameters:\", best_params)\n",
    "\n",
    "# Print the best score achieved\n",
    "print(\"Best score:\", best_score)"
   ],
   "metadata": {
    "collapsed": false,
    "ExecuteTime": {
     "end_time": "2023-05-25T11:40:35.010010272Z",
     "start_time": "2023-05-25T11:36:06.079632896Z"
    }
   }
  },
  {
   "cell_type": "code",
   "execution_count": null,
   "outputs": [],
   "source": [],
   "metadata": {
    "collapsed": false
   }
  }
 ],
 "metadata": {
  "kernelspec": {
   "display_name": "Python 3",
   "language": "python",
   "name": "python3"
  },
  "language_info": {
   "codemirror_mode": {
    "name": "ipython",
    "version": 2
   },
   "file_extension": ".py",
   "mimetype": "text/x-python",
   "name": "python",
   "nbconvert_exporter": "python",
   "pygments_lexer": "ipython2",
   "version": "2.7.6"
  }
 },
 "nbformat": 4,
 "nbformat_minor": 0
}
