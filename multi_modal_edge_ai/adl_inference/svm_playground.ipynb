{
 "cells": [
  {
   "cell_type": "markdown",
   "source": [
    "Playground to test out different models for validation."
   ],
   "metadata": {
    "collapsed": false
   }
  },
  {
   "cell_type": "code",
   "execution_count": 2,
   "outputs": [],
   "source": [
    "# Imports\n",
    "from multi_modal_edge_ai.adl_inference.validate import split_and_validate\n",
    "from multi_modal_edge_ai.adl_inference.parser import parse_file\n",
    "from multi_modal_edge_ai.adl_inference.svm_model import SVMModel\n",
    "import pandas as pd\n",
    "\n",
    "data_A, ground_truth_A = parse_file(\"./public_dataset/OrdonezA_Sensors.csv\",\n",
    "                                    \"./public_dataset/OrdonezA_ADLs.csv\")\n",
    "data_B, ground_truth_B = parse_file(\"./public_dataset/OrdonezB_Sensors.csv\",\n",
    "                                    \"./public_dataset/OrdonezB_ADLs.csv\")"
   ],
   "metadata": {
    "collapsed": false,
    "ExecuteTime": {
     "end_time": "2023-05-24T13:11:26.135248199Z",
     "start_time": "2023-05-24T13:11:24.521559392Z"
    }
   }
  },
  {
   "cell_type": "code",
   "execution_count": 7,
   "metadata": {
    "collapsed": true,
    "ExecuteTime": {
     "end_time": "2023-05-24T13:21:42.246811614Z",
     "start_time": "2023-05-24T13:21:05.484999114Z"
    }
   },
   "outputs": [
    {
     "name": "stdout",
     "output_type": "stream",
     "text": [
      "   Sleeping  Meal_Preparation  Kitchen_Usage  Bathroom_Usage  Idle  Relax   \n",
      "0      1280                 0              0               0     0      0  \\\n",
      "1         0                37              0               1     5      0   \n",
      "2         0                 0              0               0     0      0   \n",
      "3         0                 1              0               8     3      0   \n",
      "4         6                 6              0               7    34     35   \n",
      "5         0                 1              0               0     2   1338   \n",
      "6         0                 0              0               0     8      0   \n",
      "\n",
      "   Outside  \n",
      "0        0  \n",
      "1       18  \n",
      "2        0  \n",
      "3       35  \n",
      "4       79  \n",
      "5        4  \n",
      "6      272  \n",
      "0.9336477987421383\n"
     ]
    }
   ],
   "source": [
    "model = SVMModel() # create svm model\n",
    "\n",
    "avg, cm = split_and_validate(data_A,\n",
    "                             ground_truth_A,\n",
    "                             model,\n",
    "                             window_length_seconds=300,\n",
    "                             window_slide_seconds=150)\n",
    "\n",
    "cm = pd.DataFrame(cm, columns=['Sleeping', 'Meal_Preparation', 'Kitchen_Usage', 'Bathroom_Usage', 'Idle', 'Relax', 'Outside'])\n",
    "pd.set_option(\"display.max_columns\", 10)\n",
    "print(cm)\n",
    "print(avg)\n"
   ]
  },
  {
   "cell_type": "code",
   "execution_count": 5,
   "outputs": [
    {
     "name": "stdout",
     "output_type": "stream",
     "text": [
      "1 0.9223270440251572\n",
      "2 0.9267295597484276\n",
      "3 0.9276729559748428\n",
      "4 0.9267295597484276\n",
      "5 0.919496855345912\n",
      "6 0.9308176100628931\n",
      "7 0.9264150943396227\n",
      "8 0.929874213836478\n"
     ]
    }
   ],
   "source": [
    "# Test different number of components for PCA\n",
    "for i in range(1, 9):\n",
    "    model = SVMModel(n_components=i)\n",
    "    avg, cm = split_and_validate(data_A,\n",
    "                                 ground_truth_A,\n",
    "                                  model,\n",
    "                                  window_length_seconds=300,\n",
    "                                  window_slide_seconds=150)\n",
    "    print(i, avg)\n"
   ],
   "metadata": {
    "collapsed": false,
    "ExecuteTime": {
     "end_time": "2023-05-24T13:17:12.656929389Z",
     "start_time": "2023-05-24T13:12:22.729397526Z"
    }
   }
  },
  {
   "cell_type": "code",
   "execution_count": null,
   "outputs": [],
   "source": [],
   "metadata": {
    "collapsed": false
   }
  }
 ],
 "metadata": {
  "kernelspec": {
   "display_name": "Python 3",
   "language": "python",
   "name": "python3"
  },
  "language_info": {
   "codemirror_mode": {
    "name": "ipython",
    "version": 2
   },
   "file_extension": ".py",
   "mimetype": "text/x-python",
   "name": "python",
   "nbconvert_exporter": "python",
   "pygments_lexer": "ipython2",
   "version": "2.7.6"
  }
 },
 "nbformat": 4,
 "nbformat_minor": 0
}
