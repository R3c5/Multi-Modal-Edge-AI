{
 "cells": [
  {
   "cell_type": "code",
   "execution_count": 2,
   "metadata": {
    "collapsed": true,
    "ExecuteTime": {
     "end_time": "2023-05-24T22:07:16.305809100Z",
     "start_time": "2023-05-24T22:07:16.271867800Z"
    }
   },
   "outputs": [],
   "source": [
    "from torch import nn\n",
    "\n",
    "from multi_modal_edge_ai.adl_inference.data_access.parser import parse_file\n",
    "from multi_modal_edge_ai.adl_inference.ml_models.cnn_model import CNNModel\n",
    "from multi_modal_edge_ai.adl_inference.preprocessing.encoder import Encoder\n",
    "from multi_modal_edge_ai.adl_inference.validating.validate import split_and_validate\n",
    "\n",
    "\n",
    "(sdf, adf) = parse_file(r'../public_dataset/OrdonezA_Sensors.csv', r'../public_dataset/OrdonezA_ADLs.csv')\n",
    "\n",
    "adls = adf['Activity'].unique().tolist()\n",
    "adl_encoder = Encoder(adls)\n",
    "\n",
    "# If you want to replace the existing 'Activity' column with encoded values\n",
    "adf['Activity'] = adf['Activity'].apply(adl_encoder.encode_label)\n",
    "\n",
    "# Assuming df is your DataFrame\n",
    "\n",
    "sensors = sdf['Sensor'].unique().tolist()\n",
    "\n",
    "model = CNNModel(6, 2, 400, sensors, len(adls), nn.ReLU(), nn.LogSoftmax(dim=-1))"
   ]
  },
  {
   "cell_type": "code",
   "execution_count": 3,
   "outputs": [
    {
     "name": "stdout",
     "output_type": "stream",
     "text": [
      "\n",
      "\n",
      "Training started....\n",
      "Epoch 1/1, Loss: 1306.5473027204837\n",
      "\n",
      "\n",
      "Training completed.\n"
     ]
    }
   ],
   "source": [
    "result = split_and_validate(data=sdf, ground_truth=adf, model=model, labels=adls, label_encoder = adl_encoder, window_length_seconds=400, window_slide_seconds=200)"
   ],
   "metadata": {
    "collapsed": false,
    "ExecuteTime": {
     "end_time": "2023-05-24T22:08:12.658958600Z",
     "start_time": "2023-05-24T22:07:17.584443900Z"
    }
   }
  },
  {
   "cell_type": "code",
   "execution_count": 4,
   "outputs": [
    {
     "name": "stdout",
     "output_type": "stream",
     "text": [
      "\n",
      "\n",
      "Accuracy =0.9182732606873428\n",
      "   Sleeping  Idle  Bathroom_Usage  Meal_Preparation  Relax  Outside\n",
      "0       950     0               0                 0      0        0\n",
      "1         9    31               0                 0     34       61\n",
      "2         2     3               0                 0      0       25\n",
      "3        23     6               0                 0      0       18\n",
      "4         0     6               0                 0   1030        4\n",
      "5         0     2               0                 0      2      180\n"
     ]
    }
   ],
   "source": [
    "import pandas as pd\n",
    "\n",
    "print('\\n')\n",
    "print('Accuracy =' + str(result[0]))\n",
    "cm = result[1]\n",
    "cm = pd.DataFrame(cm, columns=adls)\n",
    "pd.set_option(\"display.max_columns\", 10)\n",
    "print(cm)\n"
   ],
   "metadata": {
    "collapsed": false,
    "ExecuteTime": {
     "end_time": "2023-05-24T22:08:14.067127600Z",
     "start_time": "2023-05-24T22:08:14.046741400Z"
    }
   }
  }
 ],
 "metadata": {
  "kernelspec": {
   "display_name": "Python 3",
   "language": "python",
   "name": "python3"
  },
  "language_info": {
   "codemirror_mode": {
    "name": "ipython",
    "version": 2
   },
   "file_extension": ".py",
   "mimetype": "text/x-python",
   "name": "python",
   "nbconvert_exporter": "python",
   "pygments_lexer": "ipython2",
   "version": "2.7.6"
  }
 },
 "nbformat": 4,
 "nbformat_minor": 0
}
