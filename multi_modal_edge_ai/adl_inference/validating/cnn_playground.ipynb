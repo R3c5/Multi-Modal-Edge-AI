{
 "cells": [
  {
   "cell_type": "code",
   "execution_count": 1,
   "metadata": {
    "collapsed": true,
    "ExecuteTime": {
     "end_time": "2023-05-23T22:10:37.038887800Z",
     "start_time": "2023-05-23T22:10:34.501428900Z"
    }
   },
   "outputs": [],
   "source": [
    "from torch import nn\n",
    "\n",
    "from multi_modal_edge_ai.adl_inference.data_access.parser import parse_file\n",
    "from multi_modal_edge_ai.adl_inference.ml_models.cnn_model import CNNModel\n",
    "from multi_modal_edge_ai.adl_inference.preprocessing.encoder import Encoder\n",
    "from multi_modal_edge_ai.adl_inference.validating.validate import split_and_validate\n",
    "\n",
    "\n",
    "(sdf, adf) = parse_file(r'../public_dataset/OrdonezA_Sensors.csv', r'../public_dataset/OrdonezA_ADLs.csv')\n",
    "\n",
    "adls = adf['Activity'].unique().tolist()\n",
    "adl_encoder = Encoder(adls)\n",
    "\n",
    "# If you want to replace the existing 'Activity' column with encoded values\n",
    "adf['Activity'] = adf['Activity'].apply(adl_encoder.encode_label)\n",
    "\n",
    "# Assuming df is your DataFrame\n",
    "\n",
    "sensors = sdf['Sensor'].unique().tolist()\n",
    "\n",
    "model = CNNModel(2, 2, 300, sensors, len(adls), nn.ReLU(), nn.Softmax(dim=1))"
   ]
  },
  {
   "cell_type": "code",
   "execution_count": 2,
   "outputs": [
    {
     "name": "stdout",
     "output_type": "stream",
     "text": [
      "\n",
      "\n",
      "Training started....\n",
      "Epoch 1/10, Loss: 8066.517080307007\n",
      "Epoch 2/10, Loss: 8110.227904319763\n",
      "Epoch 3/10, Loss: 8107.912800073624\n",
      "Epoch 4/10, Loss: 8116.657859802246\n",
      "Epoch 5/10, Loss: 8114.1412189006805\n",
      "Epoch 6/10, Loss: 8114.074526309967\n",
      "Epoch 7/10, Loss: 8131.564718008041\n",
      "Epoch 8/10, Loss: 8265.780719518661\n",
      "Epoch 9/10, Loss: 8265.780719518661\n",
      "Epoch 10/10, Loss: 8265.780719518661\n",
      "\n",
      "\n",
      "Training completed.\n"
     ]
    }
   ],
   "source": [
    "result = split_and_validate(data=sdf, ground_truth=adf, model=model, labels=adls, label_encoder = adl_encoder)"
   ],
   "metadata": {
    "collapsed": false,
    "ExecuteTime": {
     "end_time": "2023-05-23T22:11:49.717065500Z",
     "start_time": "2023-05-23T22:10:37.641377400Z"
    }
   }
  },
  {
   "cell_type": "code",
   "execution_count": 3,
   "outputs": [
    {
     "name": "stdout",
     "output_type": "stream",
     "text": [
      "\n",
      "\n",
      "Accuracy =\n",
      "0.02578616352201258\n",
      "   Sleeping  Idle  Bathroom_Usage  Meal_Preparation  Relax  Outside\n",
      "0         0     0               0                 0      0      605\n",
      "1         0    37               0                 0      0       58\n",
      "2         0    16               0                 0      0        9\n",
      "3         0     7               0                 0      0       19\n",
      "4         0     2               0                 0      0      718\n",
      "5         0   115               0                 0      0        4\n"
     ]
    }
   ],
   "source": [
    "import pandas as pd\n",
    "\n",
    "print('\\n')\n",
    "print('Accuracy =')\n",
    "print(result[0])\n",
    "cm = result[1]\n",
    "cm = pd.DataFrame(cm, columns=adls)\n",
    "pd.set_option(\"display.max_columns\", 10)\n",
    "print(cm)\n"
   ],
   "metadata": {
    "collapsed": false,
    "ExecuteTime": {
     "end_time": "2023-05-23T22:11:53.038083600Z",
     "start_time": "2023-05-23T22:11:53.027689400Z"
    }
   }
  }
 ],
 "metadata": {
  "kernelspec": {
   "display_name": "Python 3",
   "language": "python",
   "name": "python3"
  },
  "language_info": {
   "codemirror_mode": {
    "name": "ipython",
    "version": 2
   },
   "file_extension": ".py",
   "mimetype": "text/x-python",
   "name": "python",
   "nbconvert_exporter": "python",
   "pygments_lexer": "ipython2",
   "version": "2.7.6"
  }
 },
 "nbformat": 4,
 "nbformat_minor": 0
}
